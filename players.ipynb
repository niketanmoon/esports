{
 "cells": [
  {
   "cell_type": "markdown",
   "metadata": {},
   "source": [
    "# Importing Libraries"
   ]
  },
  {
   "cell_type": "code",
   "execution_count": 1,
   "metadata": {},
   "outputs": [],
   "source": [
    "import warnings\n",
    "warnings.filterwarnings(\"ignore\")\n",
    "from getMatchData import get_match_data\n",
    "import numpy as np\n",
    "import pandas as pd\n",
    "import getPlayersData as gpd"
   ]
  },
  {
   "cell_type": "code",
   "execution_count": 2,
   "metadata": {
    "pycharm": {
     "is_executing": true
    }
   },
   "outputs": [
    {
     "name": "stdout",
     "output_type": "stream",
     "text": [
      "Getting data from yesterdays existing file\n"
     ]
    }
   ],
   "source": [
    "match_data = get_match_data()"
   ]
  },
  {
   "cell_type": "code",
   "execution_count": 3,
   "metadata": {},
   "outputs": [
    {
     "data": {
      "text/html": [
       "<div>\n",
       "<style scoped>\n",
       "    .dataframe tbody tr th:only-of-type {\n",
       "        vertical-align: middle;\n",
       "    }\n",
       "\n",
       "    .dataframe tbody tr th {\n",
       "        vertical-align: top;\n",
       "    }\n",
       "\n",
       "    .dataframe thead th {\n",
       "        text-align: right;\n",
       "    }\n",
       "</style>\n",
       "<table border=\"1\" class=\"dataframe\">\n",
       "  <thead>\n",
       "    <tr style=\"text-align: right;\">\n",
       "      <th></th>\n",
       "      <th>gameid</th>\n",
       "      <th>datacompleteness</th>\n",
       "      <th>url</th>\n",
       "      <th>league</th>\n",
       "      <th>year</th>\n",
       "      <th>split</th>\n",
       "      <th>playoffs</th>\n",
       "      <th>date</th>\n",
       "      <th>game</th>\n",
       "      <th>patch</th>\n",
       "      <th>...</th>\n",
       "      <th>opp_csat15</th>\n",
       "      <th>golddiffat15</th>\n",
       "      <th>xpdiffat15</th>\n",
       "      <th>csdiffat15</th>\n",
       "      <th>killsat15</th>\n",
       "      <th>assistsat15</th>\n",
       "      <th>deathsat15</th>\n",
       "      <th>opp_killsat15</th>\n",
       "      <th>opp_assistsat15</th>\n",
       "      <th>opp_deathsat15</th>\n",
       "    </tr>\n",
       "  </thead>\n",
       "  <tbody>\n",
       "    <tr>\n",
       "      <th>108691</th>\n",
       "      <td>ESPORTSTMNT06_2540953</td>\n",
       "      <td>complete</td>\n",
       "      <td>NaN</td>\n",
       "      <td>CBLOLA</td>\n",
       "      <td>2022</td>\n",
       "      <td>Split 2</td>\n",
       "      <td>0</td>\n",
       "      <td>2022-07-26 23:23:27</td>\n",
       "      <td>1</td>\n",
       "      <td>12.13</td>\n",
       "      <td>...</td>\n",
       "      <td>140.0</td>\n",
       "      <td>-1767.0</td>\n",
       "      <td>57.0</td>\n",
       "      <td>2.0</td>\n",
       "      <td>0.0</td>\n",
       "      <td>0.0</td>\n",
       "      <td>0.0</td>\n",
       "      <td>1.0</td>\n",
       "      <td>1.0</td>\n",
       "      <td>0.0</td>\n",
       "    </tr>\n",
       "    <tr>\n",
       "      <th>108692</th>\n",
       "      <td>ESPORTSTMNT06_2540953</td>\n",
       "      <td>complete</td>\n",
       "      <td>NaN</td>\n",
       "      <td>CBLOLA</td>\n",
       "      <td>2022</td>\n",
       "      <td>Split 2</td>\n",
       "      <td>0</td>\n",
       "      <td>2022-07-26 23:23:27</td>\n",
       "      <td>1</td>\n",
       "      <td>12.13</td>\n",
       "      <td>...</td>\n",
       "      <td>118.0</td>\n",
       "      <td>735.0</td>\n",
       "      <td>24.0</td>\n",
       "      <td>4.0</td>\n",
       "      <td>2.0</td>\n",
       "      <td>1.0</td>\n",
       "      <td>0.0</td>\n",
       "      <td>1.0</td>\n",
       "      <td>1.0</td>\n",
       "      <td>1.0</td>\n",
       "    </tr>\n",
       "    <tr>\n",
       "      <th>108693</th>\n",
       "      <td>ESPORTSTMNT06_2540953</td>\n",
       "      <td>complete</td>\n",
       "      <td>NaN</td>\n",
       "      <td>CBLOLA</td>\n",
       "      <td>2022</td>\n",
       "      <td>Split 2</td>\n",
       "      <td>0</td>\n",
       "      <td>2022-07-26 23:23:27</td>\n",
       "      <td>1</td>\n",
       "      <td>12.13</td>\n",
       "      <td>...</td>\n",
       "      <td>22.0</td>\n",
       "      <td>-3.0</td>\n",
       "      <td>-651.0</td>\n",
       "      <td>-4.0</td>\n",
       "      <td>1.0</td>\n",
       "      <td>2.0</td>\n",
       "      <td>1.0</td>\n",
       "      <td>0.0</td>\n",
       "      <td>3.0</td>\n",
       "      <td>2.0</td>\n",
       "    </tr>\n",
       "    <tr>\n",
       "      <th>108694</th>\n",
       "      <td>ESPORTSTMNT06_2540953</td>\n",
       "      <td>complete</td>\n",
       "      <td>NaN</td>\n",
       "      <td>CBLOLA</td>\n",
       "      <td>2022</td>\n",
       "      <td>Split 2</td>\n",
       "      <td>0</td>\n",
       "      <td>2022-07-26 23:23:27</td>\n",
       "      <td>1</td>\n",
       "      <td>12.13</td>\n",
       "      <td>...</td>\n",
       "      <td>464.0</td>\n",
       "      <td>2985.0</td>\n",
       "      <td>1331.0</td>\n",
       "      <td>32.0</td>\n",
       "      <td>4.0</td>\n",
       "      <td>8.0</td>\n",
       "      <td>3.0</td>\n",
       "      <td>3.0</td>\n",
       "      <td>6.0</td>\n",
       "      <td>4.0</td>\n",
       "    </tr>\n",
       "    <tr>\n",
       "      <th>108695</th>\n",
       "      <td>ESPORTSTMNT06_2540953</td>\n",
       "      <td>complete</td>\n",
       "      <td>NaN</td>\n",
       "      <td>CBLOLA</td>\n",
       "      <td>2022</td>\n",
       "      <td>Split 2</td>\n",
       "      <td>0</td>\n",
       "      <td>2022-07-26 23:23:27</td>\n",
       "      <td>1</td>\n",
       "      <td>12.13</td>\n",
       "      <td>...</td>\n",
       "      <td>496.0</td>\n",
       "      <td>-2985.0</td>\n",
       "      <td>-1331.0</td>\n",
       "      <td>-32.0</td>\n",
       "      <td>3.0</td>\n",
       "      <td>6.0</td>\n",
       "      <td>4.0</td>\n",
       "      <td>4.0</td>\n",
       "      <td>8.0</td>\n",
       "      <td>3.0</td>\n",
       "    </tr>\n",
       "  </tbody>\n",
       "</table>\n",
       "<p>5 rows × 123 columns</p>\n",
       "</div>"
      ],
      "text/plain": [
       "                       gameid datacompleteness  url  league  year    split  \\\n",
       "108691  ESPORTSTMNT06_2540953         complete  NaN  CBLOLA  2022  Split 2   \n",
       "108692  ESPORTSTMNT06_2540953         complete  NaN  CBLOLA  2022  Split 2   \n",
       "108693  ESPORTSTMNT06_2540953         complete  NaN  CBLOLA  2022  Split 2   \n",
       "108694  ESPORTSTMNT06_2540953         complete  NaN  CBLOLA  2022  Split 2   \n",
       "108695  ESPORTSTMNT06_2540953         complete  NaN  CBLOLA  2022  Split 2   \n",
       "\n",
       "        playoffs                 date  game  patch  ...  opp_csat15  \\\n",
       "108691         0  2022-07-26 23:23:27     1  12.13  ...       140.0   \n",
       "108692         0  2022-07-26 23:23:27     1  12.13  ...       118.0   \n",
       "108693         0  2022-07-26 23:23:27     1  12.13  ...        22.0   \n",
       "108694         0  2022-07-26 23:23:27     1  12.13  ...       464.0   \n",
       "108695         0  2022-07-26 23:23:27     1  12.13  ...       496.0   \n",
       "\n",
       "       golddiffat15 xpdiffat15 csdiffat15 killsat15 assistsat15 deathsat15  \\\n",
       "108691      -1767.0       57.0        2.0       0.0         0.0        0.0   \n",
       "108692        735.0       24.0        4.0       2.0         1.0        0.0   \n",
       "108693         -3.0     -651.0       -4.0       1.0         2.0        1.0   \n",
       "108694       2985.0     1331.0       32.0       4.0         8.0        3.0   \n",
       "108695      -2985.0    -1331.0      -32.0       3.0         6.0        4.0   \n",
       "\n",
       "       opp_killsat15 opp_assistsat15 opp_deathsat15  \n",
       "108691           1.0             1.0            0.0  \n",
       "108692           1.0             1.0            1.0  \n",
       "108693           0.0             3.0            2.0  \n",
       "108694           3.0             6.0            4.0  \n",
       "108695           4.0             8.0            3.0  \n",
       "\n",
       "[5 rows x 123 columns]"
      ]
     },
     "execution_count": 3,
     "metadata": {},
     "output_type": "execute_result"
    }
   ],
   "source": [
    "match_data.tail()"
   ]
  },
  {
   "cell_type": "code",
   "execution_count": 4,
   "metadata": {},
   "outputs": [
    {
     "data": {
      "text/plain": [
       "array([['ESPORTSTMNT01_2690210',\n",
       "        'oe:team:68911b3329146587617ab2973106e23',\n",
       "        'oe:player:38e0af7278d6769d0c81d7c4b47ac1e', 'top'],\n",
       "       ['ESPORTSTMNT01_2690210',\n",
       "        'oe:team:68911b3329146587617ab2973106e23',\n",
       "        'oe:player:637ed20b1e41be1c51bd1a4cb211357', 'jng'],\n",
       "       ['ESPORTSTMNT01_2690210',\n",
       "        'oe:team:68911b3329146587617ab2973106e23',\n",
       "        'oe:player:d1ae0e2f9f3ac1e0e0cdcb86504ca77', 'mid'],\n",
       "       ...,\n",
       "       ['ESPORTSTMNT06_2540953',\n",
       "        'oe:team:391e50581a00cea9f06b2d845b4de05',\n",
       "        'oe:player:a5a630a5d4f0d3151f3c98d2d98834b', 'sup'],\n",
       "       ['ESPORTSTMNT06_2540953',\n",
       "        'oe:team:4f9786e33291cc490057a93110cbee5', nan, 'team'],\n",
       "       ['ESPORTSTMNT06_2540953',\n",
       "        'oe:team:391e50581a00cea9f06b2d845b4de05', nan, 'team']],\n",
       "      dtype=object)"
      ]
     },
     "execution_count": 4,
     "metadata": {},
     "output_type": "execute_result"
    }
   ],
   "source": [
    "match_data[[\"gameid\", \"teamid\", \"playerid\", \"position\"]].values"
   ]
  },
  {
   "cell_type": "code",
   "execution_count": 5,
   "metadata": {},
   "outputs": [],
   "source": [
    "def invalid_games_checker(invalid_str=\"NA\"):\n",
    "    \n",
    "    # Check if \"NA\" is present\n",
    "    flag = False\n",
    "    for element in match_data[[\"gameid\", \"teamid\", \"playerid\", \"position\"]].values:\n",
    "        for item in element:\n",
    "            if not isinstance(item, float):\n",
    "                if invalid_str in item:\n",
    "                    flag = True\n",
    "                    if invalid_str:\n",
    "                        print(f\"Has {invalid_str}\")\n",
    "                    else:\n",
    "                        print(\"Has empty string\")\n",
    "                    break\n",
    "        if flag:\n",
    "            break"
   ]
  },
  {
   "cell_type": "code",
   "execution_count": 6,
   "metadata": {},
   "outputs": [
    {
     "name": "stdout",
     "output_type": "stream",
     "text": [
      "Has NA\n",
      "Has empty string\n"
     ]
    }
   ],
   "source": [
    "# check NA\n",
    "invalid_games_checker(invalid_str=\"NA\")\n",
    "\n",
    "# check empty string\n",
    "invalid_games_checker(invalid_str=\"\")\n",
    "\n",
    "# check nan\n",
    "invalid_games_checker(invalid_str=\"nan\")\n",
    "\n",
    "# check null\n",
    "invalid_games_checker(invalid_str=\"null\")\n",
    "\n"
   ]
  },
  {
   "cell_type": "code",
   "execution_count": 7,
   "metadata": {},
   "outputs": [
    {
     "data": {
      "text/plain": [
       "(108696, 123)"
      ]
     },
     "execution_count": 7,
     "metadata": {},
     "output_type": "execute_result"
    }
   ],
   "source": [
    "match_data.shape"
   ]
  },
  {
   "cell_type": "markdown",
   "metadata": {},
   "source": [
    "# Cleaning and formatting data"
   ]
  },
  {
   "cell_type": "code",
   "execution_count": 8,
   "metadata": {
    "pycharm": {
     "name": "#%%\n"
    }
   },
   "outputs": [],
   "source": [
    "invalid_game_ids = []\n",
    "\n",
    "# removing the invalid game data for invalid game ids\n",
    "for gid in match_data.gameid.values:\n",
    "    if not isinstance(gid, float):\n",
    "        if \"NA\" in gid:\n",
    "            invalid_game_ids.append(gid)\n",
    "\n",
    "match_data = match_data[~match_data[\"gameid\"].isin(invalid_game_ids)].copy()"
   ]
  },
  {
   "cell_type": "code",
   "execution_count": 9,
   "metadata": {},
   "outputs": [
    {
     "data": {
      "text/plain": [
       "(102840, 123)"
      ]
     },
     "execution_count": 9,
     "metadata": {},
     "output_type": "execute_result"
    }
   ],
   "source": [
    "match_data.shape"
   ]
  },
  {
   "cell_type": "code",
   "execution_count": 10,
   "metadata": {},
   "outputs": [],
   "source": [
    "# First removing the data that has empty, nan or null string\n",
    "format_dict = {\n",
    "    \"\": np.nan, \n",
    "    \"nan\": np.nan, \n",
    "    \"null\":np.nan\n",
    "}\n",
    "\n",
    "# convert all to str\n",
    "match_data[\"gameid\"] = match_data[\"gameid\"].str.strip()\n",
    "match_data[\"teamid\"] = match_data[\"teamid\"].str.strip()\n",
    "match_data[\"playerid\"] = match_data[\"playerid\"].str.strip()\n",
    "\n",
    "# replace the invalid values to np.nan\n",
    "# https://sparkbyexamples.com/pandas/pandas-remap-values-in-column-with-a-dictionary-dict/#:~:text=Using%20Pandas%20DataFrame.-,replace(),regular%20expressions%20for%20regex%20substitutions.\n",
    "match_data = match_data.replace({\n",
    "    \"gameid\": format_dict,\n",
    "    \"teamid\": format_dict,\n",
    "    \"playerid\": format_dict,\n",
    "    \"position\": format_dict\n",
    "})"
   ]
  },
  {
   "cell_type": "code",
   "execution_count": 11,
   "metadata": {},
   "outputs": [
    {
     "data": {
      "text/plain": [
       "(102840, 123)"
      ]
     },
     "execution_count": 11,
     "metadata": {},
     "output_type": "execute_result"
    }
   ],
   "source": [
    "match_data.shape"
   ]
  },
  {
   "cell_type": "code",
   "execution_count": 12,
   "metadata": {},
   "outputs": [],
   "source": [
    "# Drop nan value\n",
    "match_data = match_data[match_data.gameid.notna()]\n",
    "match_data = match_data[match_data.position.notna()]"
   ]
  },
  {
   "cell_type": "code",
   "execution_count": 13,
   "metadata": {},
   "outputs": [
    {
     "data": {
      "text/plain": [
       "(102816, 123)"
      ]
     },
     "execution_count": 13,
     "metadata": {},
     "output_type": "execute_result"
    }
   ],
   "source": [
    "match_data.shape"
   ]
  },
  {
   "cell_type": "code",
   "execution_count": 14,
   "metadata": {},
   "outputs": [],
   "source": [
    "# Drop duplicates if any\n",
    "match_data = match_data.drop_duplicates()"
   ]
  },
  {
   "cell_type": "code",
   "execution_count": 15,
   "metadata": {},
   "outputs": [
    {
     "data": {
      "text/plain": [
       "(102816, 123)"
      ]
     },
     "execution_count": 15,
     "metadata": {},
     "output_type": "execute_result"
    }
   ],
   "source": [
    "match_data.shape"
   ]
  },
  {
   "cell_type": "markdown",
   "metadata": {},
   "source": [
    "- There are no duplicates"
   ]
  },
  {
   "cell_type": "markdown",
   "metadata": {},
   "source": [
    "# Separating players data from match data"
   ]
  },
  {
   "cell_type": "code",
   "execution_count": 16,
   "metadata": {},
   "outputs": [
    {
     "data": {
      "text/html": [
       "<div>\n",
       "<style scoped>\n",
       "    .dataframe tbody tr th:only-of-type {\n",
       "        vertical-align: middle;\n",
       "    }\n",
       "\n",
       "    .dataframe tbody tr th {\n",
       "        vertical-align: top;\n",
       "    }\n",
       "\n",
       "    .dataframe thead th {\n",
       "        text-align: right;\n",
       "    }\n",
       "</style>\n",
       "<table border=\"1\" class=\"dataframe\">\n",
       "  <thead>\n",
       "    <tr style=\"text-align: right;\">\n",
       "      <th></th>\n",
       "      <th>gameid</th>\n",
       "      <th>datacompleteness</th>\n",
       "      <th>url</th>\n",
       "      <th>league</th>\n",
       "      <th>year</th>\n",
       "      <th>split</th>\n",
       "      <th>playoffs</th>\n",
       "      <th>date</th>\n",
       "      <th>game</th>\n",
       "      <th>patch</th>\n",
       "      <th>...</th>\n",
       "      <th>opp_csat15</th>\n",
       "      <th>golddiffat15</th>\n",
       "      <th>xpdiffat15</th>\n",
       "      <th>csdiffat15</th>\n",
       "      <th>killsat15</th>\n",
       "      <th>assistsat15</th>\n",
       "      <th>deathsat15</th>\n",
       "      <th>opp_killsat15</th>\n",
       "      <th>opp_assistsat15</th>\n",
       "      <th>opp_deathsat15</th>\n",
       "    </tr>\n",
       "  </thead>\n",
       "  <tbody>\n",
       "    <tr>\n",
       "      <th>0</th>\n",
       "      <td>ESPORTSTMNT01_2690210</td>\n",
       "      <td>complete</td>\n",
       "      <td>NaN</td>\n",
       "      <td>LCK CL</td>\n",
       "      <td>2022</td>\n",
       "      <td>Spring</td>\n",
       "      <td>0</td>\n",
       "      <td>2022-01-10 07:44:08</td>\n",
       "      <td>1</td>\n",
       "      <td>12.01</td>\n",
       "      <td>...</td>\n",
       "      <td>121.0</td>\n",
       "      <td>391.0</td>\n",
       "      <td>345.0</td>\n",
       "      <td>14.0</td>\n",
       "      <td>0.0</td>\n",
       "      <td>1.0</td>\n",
       "      <td>0.0</td>\n",
       "      <td>0.0</td>\n",
       "      <td>1.0</td>\n",
       "      <td>0.0</td>\n",
       "    </tr>\n",
       "    <tr>\n",
       "      <th>1</th>\n",
       "      <td>ESPORTSTMNT01_2690210</td>\n",
       "      <td>complete</td>\n",
       "      <td>NaN</td>\n",
       "      <td>LCK CL</td>\n",
       "      <td>2022</td>\n",
       "      <td>Spring</td>\n",
       "      <td>0</td>\n",
       "      <td>2022-01-10 07:44:08</td>\n",
       "      <td>1</td>\n",
       "      <td>12.01</td>\n",
       "      <td>...</td>\n",
       "      <td>100.0</td>\n",
       "      <td>541.0</td>\n",
       "      <td>-275.0</td>\n",
       "      <td>-11.0</td>\n",
       "      <td>2.0</td>\n",
       "      <td>3.0</td>\n",
       "      <td>2.0</td>\n",
       "      <td>0.0</td>\n",
       "      <td>5.0</td>\n",
       "      <td>1.0</td>\n",
       "    </tr>\n",
       "    <tr>\n",
       "      <th>2</th>\n",
       "      <td>ESPORTSTMNT01_2690210</td>\n",
       "      <td>complete</td>\n",
       "      <td>NaN</td>\n",
       "      <td>LCK CL</td>\n",
       "      <td>2022</td>\n",
       "      <td>Spring</td>\n",
       "      <td>0</td>\n",
       "      <td>2022-01-10 07:44:08</td>\n",
       "      <td>1</td>\n",
       "      <td>12.01</td>\n",
       "      <td>...</td>\n",
       "      <td>119.0</td>\n",
       "      <td>-475.0</td>\n",
       "      <td>153.0</td>\n",
       "      <td>1.0</td>\n",
       "      <td>0.0</td>\n",
       "      <td>3.0</td>\n",
       "      <td>0.0</td>\n",
       "      <td>3.0</td>\n",
       "      <td>3.0</td>\n",
       "      <td>2.0</td>\n",
       "    </tr>\n",
       "    <tr>\n",
       "      <th>3</th>\n",
       "      <td>ESPORTSTMNT01_2690210</td>\n",
       "      <td>complete</td>\n",
       "      <td>NaN</td>\n",
       "      <td>LCK CL</td>\n",
       "      <td>2022</td>\n",
       "      <td>Spring</td>\n",
       "      <td>0</td>\n",
       "      <td>2022-01-10 07:44:08</td>\n",
       "      <td>1</td>\n",
       "      <td>12.01</td>\n",
       "      <td>...</td>\n",
       "      <td>149.0</td>\n",
       "      <td>-793.0</td>\n",
       "      <td>-1343.0</td>\n",
       "      <td>-34.0</td>\n",
       "      <td>2.0</td>\n",
       "      <td>1.0</td>\n",
       "      <td>2.0</td>\n",
       "      <td>3.0</td>\n",
       "      <td>3.0</td>\n",
       "      <td>0.0</td>\n",
       "    </tr>\n",
       "    <tr>\n",
       "      <th>4</th>\n",
       "      <td>ESPORTSTMNT01_2690210</td>\n",
       "      <td>complete</td>\n",
       "      <td>NaN</td>\n",
       "      <td>LCK CL</td>\n",
       "      <td>2022</td>\n",
       "      <td>Spring</td>\n",
       "      <td>0</td>\n",
       "      <td>2022-01-10 07:44:08</td>\n",
       "      <td>1</td>\n",
       "      <td>12.01</td>\n",
       "      <td>...</td>\n",
       "      <td>21.0</td>\n",
       "      <td>443.0</td>\n",
       "      <td>-497.0</td>\n",
       "      <td>7.0</td>\n",
       "      <td>1.0</td>\n",
       "      <td>2.0</td>\n",
       "      <td>2.0</td>\n",
       "      <td>0.0</td>\n",
       "      <td>6.0</td>\n",
       "      <td>2.0</td>\n",
       "    </tr>\n",
       "  </tbody>\n",
       "</table>\n",
       "<p>5 rows × 123 columns</p>\n",
       "</div>"
      ],
      "text/plain": [
       "                  gameid datacompleteness  url  league  year   split  \\\n",
       "0  ESPORTSTMNT01_2690210         complete  NaN  LCK CL  2022  Spring   \n",
       "1  ESPORTSTMNT01_2690210         complete  NaN  LCK CL  2022  Spring   \n",
       "2  ESPORTSTMNT01_2690210         complete  NaN  LCK CL  2022  Spring   \n",
       "3  ESPORTSTMNT01_2690210         complete  NaN  LCK CL  2022  Spring   \n",
       "4  ESPORTSTMNT01_2690210         complete  NaN  LCK CL  2022  Spring   \n",
       "\n",
       "   playoffs                 date  game  patch  ...  opp_csat15 golddiffat15  \\\n",
       "0         0  2022-01-10 07:44:08     1  12.01  ...       121.0        391.0   \n",
       "1         0  2022-01-10 07:44:08     1  12.01  ...       100.0        541.0   \n",
       "2         0  2022-01-10 07:44:08     1  12.01  ...       119.0       -475.0   \n",
       "3         0  2022-01-10 07:44:08     1  12.01  ...       149.0       -793.0   \n",
       "4         0  2022-01-10 07:44:08     1  12.01  ...        21.0        443.0   \n",
       "\n",
       "  xpdiffat15 csdiffat15 killsat15 assistsat15 deathsat15 opp_killsat15  \\\n",
       "0      345.0       14.0       0.0         1.0        0.0           0.0   \n",
       "1     -275.0      -11.0       2.0         3.0        2.0           0.0   \n",
       "2      153.0        1.0       0.0         3.0        0.0           3.0   \n",
       "3    -1343.0      -34.0       2.0         1.0        2.0           3.0   \n",
       "4     -497.0        7.0       1.0         2.0        2.0           0.0   \n",
       "\n",
       "  opp_assistsat15 opp_deathsat15  \n",
       "0             1.0            0.0  \n",
       "1             5.0            1.0  \n",
       "2             3.0            2.0  \n",
       "3             3.0            0.0  \n",
       "4             6.0            2.0  \n",
       "\n",
       "[5 rows x 123 columns]"
      ]
     },
     "execution_count": 16,
     "metadata": {},
     "output_type": "execute_result"
    }
   ],
   "source": [
    "# look into the dataframe for features\n",
    "player_data = match_data[match_data[\"position\"] != \"team\"]\n",
    "player_data.head()"
   ]
  },
  {
   "cell_type": "code",
   "execution_count": 17,
   "metadata": {},
   "outputs": [
    {
     "name": "stdout",
     "output_type": "stream",
     "text": [
      "<class 'pandas.core.frame.DataFrame'>\n",
      "Int64Index: 85680 entries, 0 to 108693\n",
      "Columns: 123 entries, gameid to opp_deathsat15\n",
      "dtypes: float64(93), int64(12), object(18)\n",
      "memory usage: 81.1+ MB\n"
     ]
    }
   ],
   "source": [
    "player_data.info()"
   ]
  },
  {
   "cell_type": "code",
   "execution_count": 18,
   "metadata": {},
   "outputs": [
    {
     "name": "stdout",
     "output_type": "stream",
     "text": [
      "<class 'str'>\n"
     ]
    }
   ],
   "source": [
    "player_data.date.values\n",
    "print(type(player_data.date.values[0]))"
   ]
  },
  {
   "cell_type": "code",
   "execution_count": 19,
   "metadata": {},
   "outputs": [],
   "source": [
    "# Format date according to datetime\n",
    "# https://pandas.pydata.org/docs/reference/api/pandas.DataFrame.astype.html\n",
    "# https://www.geeksforgeeks.org/convert-the-column-type-from-string-to-datetime-format-in-pandas-dataframe/\n",
    "player_data = player_data.astype({\"date\": \"datetime64\"})"
   ]
  },
  {
   "cell_type": "code",
   "execution_count": 20,
   "metadata": {},
   "outputs": [
    {
     "name": "stdout",
     "output_type": "stream",
     "text": [
      "<class 'numpy.datetime64'>\n"
     ]
    }
   ],
   "source": [
    "print(type(player_data.date.values[0]))"
   ]
  },
  {
   "cell_type": "markdown",
   "metadata": {},
   "source": [
    "# Downloading the full players data"
   ]
  },
  {
   "cell_type": "code",
   "execution_count": 21,
   "metadata": {},
   "outputs": [],
   "source": [
    "gpd.players_data_to_csv(player_data)"
   ]
  }
 ],
 "metadata": {
  "kernelspec": {
   "display_name": "Python 3 (ipykernel)",
   "language": "python",
   "name": "python3"
  },
  "language_info": {
   "codemirror_mode": {
    "name": "ipython",
    "version": 3
   },
   "file_extension": ".py",
   "mimetype": "text/x-python",
   "name": "python",
   "nbconvert_exporter": "python",
   "pygments_lexer": "ipython3",
   "version": "3.9.10"
  }
 },
 "nbformat": 4,
 "nbformat_minor": 1
}
